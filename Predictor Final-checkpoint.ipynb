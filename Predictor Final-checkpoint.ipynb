{
 "cells": [
  {
   "cell_type": "markdown",
   "metadata": {
    "_cell_guid": "0ad8f507-66c5-46d5-b1e6-6bc8db9a3044",
    "_uuid": "bd7282963bd6a3163b39b87eb44053c9e28ecead"
   },
   "source": [
    "**Adult Salary Income.**\n",
    " In this kernel we shall explore the data and make predictions if an adult earns more than 50K per year.\n",
    "I've used tableau to explore the data using data viz.\n",
    "Hope you have fun."
   ]
  },
  {
   "cell_type": "code",
   "execution_count": 1,
   "metadata": {
    "_cell_guid": "00133ef5-9031-43ea-926b-93131b326c14",
    "_uuid": "1ba5e40c27f86c340366217a3fb75eb85a94e5c4"
   },
   "outputs": [],
   "source": [
    "#i decided to use this libraries below\n",
    "import pandas as pd\n",
    "import numpy as np\n",
    "\n",
    "import matplotlib.pyplot as plt\n",
    "import seaborn as sns\n"
   ]
  },
  {
   "cell_type": "code",
   "execution_count": 2,
   "metadata": {
    "_cell_guid": "ed08b036-4ed9-4815-84ad-fee3907f5078",
    "_uuid": "b95ebb424c9012a5f97e811562a6351f1aa9b61e"
   },
   "outputs": [],
   "source": [
    "data= pd.read_csv(\"/Users/Moolfel/.ipynb_checkpoints/adult.csv\")\n",
    "df= pd.DataFrame(data)"
   ]
  },
  {
   "cell_type": "code",
   "execution_count": 3,
   "metadata": {
    "_cell_guid": "14b58ab5-bea3-458f-b740-58c6104198f0",
    "_uuid": "e10791afa0be90cca75a95205437e1683f77493f"
   },
   "outputs": [
    {
     "data": {
      "text/html": [
       "<div>\n",
       "<style scoped>\n",
       "    .dataframe tbody tr th:only-of-type {\n",
       "        vertical-align: middle;\n",
       "    }\n",
       "\n",
       "    .dataframe tbody tr th {\n",
       "        vertical-align: top;\n",
       "    }\n",
       "\n",
       "    .dataframe thead th {\n",
       "        text-align: right;\n",
       "    }\n",
       "</style>\n",
       "<table border=\"1\" class=\"dataframe\">\n",
       "  <thead>\n",
       "    <tr style=\"text-align: right;\">\n",
       "      <th></th>\n",
       "      <th>age</th>\n",
       "      <th>workclass</th>\n",
       "      <th>fnlwgt</th>\n",
       "      <th>education</th>\n",
       "      <th>education.num</th>\n",
       "      <th>marital.status</th>\n",
       "      <th>occupation</th>\n",
       "      <th>relationship</th>\n",
       "      <th>race</th>\n",
       "      <th>sex</th>\n",
       "      <th>capital.gain</th>\n",
       "      <th>capital.loss</th>\n",
       "      <th>hours.per.week</th>\n",
       "      <th>native.country</th>\n",
       "      <th>income</th>\n",
       "    </tr>\n",
       "  </thead>\n",
       "  <tbody>\n",
       "    <tr>\n",
       "      <th>0</th>\n",
       "      <td>90</td>\n",
       "      <td>?</td>\n",
       "      <td>77053</td>\n",
       "      <td>HS-grad</td>\n",
       "      <td>9</td>\n",
       "      <td>Widowed</td>\n",
       "      <td>?</td>\n",
       "      <td>Not-in-family</td>\n",
       "      <td>White</td>\n",
       "      <td>Female</td>\n",
       "      <td>0</td>\n",
       "      <td>4356</td>\n",
       "      <td>40</td>\n",
       "      <td>United-States</td>\n",
       "      <td>&lt;=50K</td>\n",
       "    </tr>\n",
       "    <tr>\n",
       "      <th>1</th>\n",
       "      <td>82</td>\n",
       "      <td>Private</td>\n",
       "      <td>132870</td>\n",
       "      <td>HS-grad</td>\n",
       "      <td>9</td>\n",
       "      <td>Widowed</td>\n",
       "      <td>Exec-managerial</td>\n",
       "      <td>Not-in-family</td>\n",
       "      <td>White</td>\n",
       "      <td>Female</td>\n",
       "      <td>0</td>\n",
       "      <td>4356</td>\n",
       "      <td>18</td>\n",
       "      <td>United-States</td>\n",
       "      <td>&lt;=50K</td>\n",
       "    </tr>\n",
       "    <tr>\n",
       "      <th>2</th>\n",
       "      <td>66</td>\n",
       "      <td>?</td>\n",
       "      <td>186061</td>\n",
       "      <td>Some-college</td>\n",
       "      <td>10</td>\n",
       "      <td>Widowed</td>\n",
       "      <td>?</td>\n",
       "      <td>Unmarried</td>\n",
       "      <td>Black</td>\n",
       "      <td>Female</td>\n",
       "      <td>0</td>\n",
       "      <td>4356</td>\n",
       "      <td>40</td>\n",
       "      <td>United-States</td>\n",
       "      <td>&lt;=50K</td>\n",
       "    </tr>\n",
       "    <tr>\n",
       "      <th>3</th>\n",
       "      <td>54</td>\n",
       "      <td>Private</td>\n",
       "      <td>140359</td>\n",
       "      <td>7th-8th</td>\n",
       "      <td>4</td>\n",
       "      <td>Divorced</td>\n",
       "      <td>Machine-op-inspct</td>\n",
       "      <td>Unmarried</td>\n",
       "      <td>White</td>\n",
       "      <td>Female</td>\n",
       "      <td>0</td>\n",
       "      <td>3900</td>\n",
       "      <td>40</td>\n",
       "      <td>United-States</td>\n",
       "      <td>&lt;=50K</td>\n",
       "    </tr>\n",
       "    <tr>\n",
       "      <th>4</th>\n",
       "      <td>41</td>\n",
       "      <td>Private</td>\n",
       "      <td>264663</td>\n",
       "      <td>Some-college</td>\n",
       "      <td>10</td>\n",
       "      <td>Separated</td>\n",
       "      <td>Prof-specialty</td>\n",
       "      <td>Own-child</td>\n",
       "      <td>White</td>\n",
       "      <td>Female</td>\n",
       "      <td>0</td>\n",
       "      <td>3900</td>\n",
       "      <td>40</td>\n",
       "      <td>United-States</td>\n",
       "      <td>&lt;=50K</td>\n",
       "    </tr>\n",
       "  </tbody>\n",
       "</table>\n",
       "</div>"
      ],
      "text/plain": [
       "   age workclass  fnlwgt     education  education.num marital.status  \\\n",
       "0   90         ?   77053       HS-grad              9        Widowed   \n",
       "1   82   Private  132870       HS-grad              9        Widowed   \n",
       "2   66         ?  186061  Some-college             10        Widowed   \n",
       "3   54   Private  140359       7th-8th              4       Divorced   \n",
       "4   41   Private  264663  Some-college             10      Separated   \n",
       "\n",
       "          occupation   relationship   race     sex  capital.gain  \\\n",
       "0                  ?  Not-in-family  White  Female             0   \n",
       "1    Exec-managerial  Not-in-family  White  Female             0   \n",
       "2                  ?      Unmarried  Black  Female             0   \n",
       "3  Machine-op-inspct      Unmarried  White  Female             0   \n",
       "4     Prof-specialty      Own-child  White  Female             0   \n",
       "\n",
       "   capital.loss  hours.per.week native.country income  \n",
       "0          4356              40  United-States  <=50K  \n",
       "1          4356              18  United-States  <=50K  \n",
       "2          4356              40  United-States  <=50K  \n",
       "3          3900              40  United-States  <=50K  \n",
       "4          3900              40  United-States  <=50K  "
      ]
     },
     "execution_count": 3,
     "metadata": {},
     "output_type": "execute_result"
    }
   ],
   "source": [
    "data.head()\n"
   ]
  },
  {
   "cell_type": "markdown",
   "metadata": {
    "_cell_guid": "d0fbb6c0-9752-436b-ac62-9ab1533d3d1c",
    "_uuid": "81d8434111f435b1f735fe57c37b83ff6cbe2ce7"
   },
   "source": [
    "We do have some missing values here coded with **'?'**"
   ]
  },
  {
   "cell_type": "code",
   "execution_count": 4,
   "metadata": {
    "_cell_guid": "dbfd715a-a83e-44a1-abeb-611eac92b2bc",
    "_uuid": "56f1ff0cb75f845f06ee007510e8374092106c4d"
   },
   "outputs": [
    {
     "name": "stdout",
     "output_type": "stream",
     "text": [
      "<class 'pandas.core.frame.DataFrame'>\n",
      "RangeIndex: 32561 entries, 0 to 32560\n",
      "Data columns (total 15 columns):\n",
      "age               32561 non-null int64\n",
      "workclass         32561 non-null object\n",
      "fnlwgt            32561 non-null int64\n",
      "education         32561 non-null object\n",
      "education.num     32561 non-null int64\n",
      "marital.status    32561 non-null object\n",
      "occupation        32561 non-null object\n",
      "relationship      32561 non-null object\n",
      "race              32561 non-null object\n",
      "sex               32561 non-null object\n",
      "capital.gain      32561 non-null int64\n",
      "capital.loss      32561 non-null int64\n",
      "hours.per.week    32561 non-null int64\n",
      "native.country    32561 non-null object\n",
      "income            32561 non-null object\n",
      "dtypes: int64(6), object(9)\n",
      "memory usage: 3.7+ MB\n"
     ]
    }
   ],
   "source": [
    "data.info()"
   ]
  },
  {
   "cell_type": "markdown",
   "metadata": {
    "_cell_guid": "9aa098c1-d42a-41e9-a893-8ed149ebb773",
    "_uuid": "7a20796259aa6e6670b9d3c72d4bbc1662a6282c"
   },
   "source": [
    "We'll take care of the missing values a little later."
   ]
  },
  {
   "cell_type": "code",
   "execution_count": 5,
   "metadata": {
    "_cell_guid": "aa5a427b-f1f8-4f4a-9996-cfc3f9c2bf2c",
    "_uuid": "9a46680831b76c4e007aa64c572f24491eec3983"
   },
   "outputs": [
    {
     "name": "stdout",
     "output_type": "stream",
     "text": [
      "{'Armed-Forces', 'Sales', 'Machine-op-inspct', 'Other-service', 'Transport-moving', 'Priv-house-serv', 'Handlers-cleaners', 'Protective-serv', 'Farming-fishing', '?', 'Adm-clerical', 'Prof-specialty', 'Tech-support', 'Exec-managerial', 'Craft-repair'}\n"
     ]
    }
   ],
   "source": [
    "#Converting Categorical variables into Quantitative variables\n",
    "print(set(data['occupation']))\n",
    "data['occupation'] = data['occupation'].map({'?': 0, 'Farming-fishing': 1, 'Tech-support': 2, \n",
    "                                                       'Adm-clerical': 3, 'Handlers-cleaners': 4, 'Prof-specialty': 5,\n",
    "                                                       'Machine-op-inspct': 6, 'Exec-managerial': 7, \n",
    "                                                       'Priv-house-serv': 8, 'Craft-repair': 9, 'Sales': 10, \n",
    "                                                       'Transport-moving': 11, 'Armed-Forces': 12, 'Other-service': 13, \n",
    "                                                       'Protective-serv': 14}).astype(int)\n",
    "\n",
    "\n",
    "\n",
    "    "
   ]
  },
  {
   "cell_type": "code",
   "execution_count": 6,
   "metadata": {
    "_cell_guid": "dda7230b-de26-4a20-8656-039914c0f1f3",
    "_uuid": "dab03e7aba5c1e74d6e31b58eb8b8c9fe30d56b9"
   },
   "outputs": [],
   "source": [
    "data['income'] = data['income'].map({'<=50K': 0, '>50K': 1}).astype(int)"
   ]
  },
  {
   "cell_type": "code",
   "execution_count": 7,
   "metadata": {
    "_cell_guid": "88fe0763-b431-4383-a780-75d67888f1cf",
    "_uuid": "6c8bdf2575e3005a08be6b31cff484d38bf2f182"
   },
   "outputs": [],
   "source": [
    "data['sex'] = data['sex'].map({'Male': 0, 'Female': 1}).astype(int)"
   ]
  },
  {
   "cell_type": "code",
   "execution_count": 8,
   "metadata": {
    "_cell_guid": "e71a11c0-b79a-490e-9c44-7641135352d7",
    "_uuid": "055d725026428cfb19e5a07a29a283211d2504d7"
   },
   "outputs": [],
   "source": [
    "data['race'] = data['race'].map({'Black': 0, 'Asian-Pac-Islander': 1, 'Other': 2, 'White': 3, \n",
    "                                             'Amer-Indian-Eskimo': 4}).astype(int)"
   ]
  },
  {
   "cell_type": "code",
   "execution_count": 9,
   "metadata": {
    "_cell_guid": "e54e80d1-c687-4655-8cde-0f0b81016cc2",
    "_uuid": "8be3e88d6919f7fc1954283c4af4a16f30a9a6e5"
   },
   "outputs": [],
   "source": [
    "data['marital.status'] = data['marital.status'].map({'Married-spouse-absent': 0, 'Widowed': 1, \n",
    "                                                             'Married-civ-spouse': 2, 'Separated': 3, 'Divorced': 4, \n",
    "                                                             'Never-married': 5, 'Married-AF-spouse': 6}).astype(int)\n",
    "\n"
   ]
  },
  {
   "cell_type": "markdown",
   "metadata": {
    "_cell_guid": "635eb454-d45f-487f-b539-fc72f59fbf93",
    "_uuid": "d0a4672925815d501eb4e118166e18cf80f10d70"
   },
   "source": [
    "All the necessary variables have been converted. Now lets see what we can do with the missing values."
   ]
  },
  {
   "cell_type": "code",
   "execution_count": 10,
   "metadata": {
    "_cell_guid": "cbadbbe9-3945-4df5-be3e-b3f08941ec99",
    "_uuid": "c6ba6fd19e1b90e0115b5e8de536d353cc86eca3"
   },
   "outputs": [],
   "source": [
    "df.occupation.replace(0, np.nan, inplace=True)"
   ]
  },
  {
   "cell_type": "code",
   "execution_count": 11,
   "metadata": {
    "_cell_guid": "857f8da9-c6f8-4ea6-acaf-2f1516728ce4",
    "_uuid": "a1a5cf89be43ee1b239b404a83067e908535518e"
   },
   "outputs": [
    {
     "name": "stdout",
     "output_type": "stream",
     "text": [
      "(32561, 15)\n",
      "(30718, 15)\n"
     ]
    }
   ],
   "source": [
    "print(df.shape)\n",
    "df=df.dropna()\n",
    "print(df.shape)"
   ]
  },
  {
   "cell_type": "markdown",
   "metadata": {
    "_cell_guid": "38a793ee-866d-4b7f-b39f-2e3f2385fef2",
    "_uuid": "8f10029dbf99fc76365f6fe03e07a1f5d76c3377"
   },
   "source": [
    "In the above code I just dropped about 1800 null entries for the occupation column."
   ]
  },
  {
   "cell_type": "code",
   "execution_count": 12,
   "metadata": {
    "_cell_guid": "b252d477-782b-422c-a38c-eb2b59a1bd73",
    "_uuid": "714820fb11f49b08ea975f561c842102e2af3676",
    "scrolled": true
   },
   "outputs": [
    {
     "data": {
      "text/html": [
       "<div>\n",
       "<style scoped>\n",
       "    .dataframe tbody tr th:only-of-type {\n",
       "        vertical-align: middle;\n",
       "    }\n",
       "\n",
       "    .dataframe tbody tr th {\n",
       "        vertical-align: top;\n",
       "    }\n",
       "\n",
       "    .dataframe thead th {\n",
       "        text-align: right;\n",
       "    }\n",
       "</style>\n",
       "<table border=\"1\" class=\"dataframe\">\n",
       "  <thead>\n",
       "    <tr style=\"text-align: right;\">\n",
       "      <th></th>\n",
       "      <th>age</th>\n",
       "      <th>workclass</th>\n",
       "      <th>fnlwgt</th>\n",
       "      <th>education</th>\n",
       "      <th>education.num</th>\n",
       "      <th>marital.status</th>\n",
       "      <th>occupation</th>\n",
       "      <th>relationship</th>\n",
       "      <th>race</th>\n",
       "      <th>sex</th>\n",
       "      <th>capital.gain</th>\n",
       "      <th>capital.loss</th>\n",
       "      <th>hours.per.week</th>\n",
       "      <th>native.country</th>\n",
       "      <th>income</th>\n",
       "    </tr>\n",
       "  </thead>\n",
       "  <tbody>\n",
       "    <tr>\n",
       "      <th>1</th>\n",
       "      <td>82</td>\n",
       "      <td>Private</td>\n",
       "      <td>132870</td>\n",
       "      <td>HS-grad</td>\n",
       "      <td>9</td>\n",
       "      <td>1</td>\n",
       "      <td>7.0</td>\n",
       "      <td>Not-in-family</td>\n",
       "      <td>3</td>\n",
       "      <td>1</td>\n",
       "      <td>0</td>\n",
       "      <td>4356</td>\n",
       "      <td>18</td>\n",
       "      <td>United-States</td>\n",
       "      <td>0</td>\n",
       "    </tr>\n",
       "    <tr>\n",
       "      <th>3</th>\n",
       "      <td>54</td>\n",
       "      <td>Private</td>\n",
       "      <td>140359</td>\n",
       "      <td>7th-8th</td>\n",
       "      <td>4</td>\n",
       "      <td>4</td>\n",
       "      <td>6.0</td>\n",
       "      <td>Unmarried</td>\n",
       "      <td>3</td>\n",
       "      <td>1</td>\n",
       "      <td>0</td>\n",
       "      <td>3900</td>\n",
       "      <td>40</td>\n",
       "      <td>United-States</td>\n",
       "      <td>0</td>\n",
       "    </tr>\n",
       "    <tr>\n",
       "      <th>4</th>\n",
       "      <td>41</td>\n",
       "      <td>Private</td>\n",
       "      <td>264663</td>\n",
       "      <td>Some-college</td>\n",
       "      <td>10</td>\n",
       "      <td>3</td>\n",
       "      <td>5.0</td>\n",
       "      <td>Own-child</td>\n",
       "      <td>3</td>\n",
       "      <td>1</td>\n",
       "      <td>0</td>\n",
       "      <td>3900</td>\n",
       "      <td>40</td>\n",
       "      <td>United-States</td>\n",
       "      <td>0</td>\n",
       "    </tr>\n",
       "    <tr>\n",
       "      <th>5</th>\n",
       "      <td>34</td>\n",
       "      <td>Private</td>\n",
       "      <td>216864</td>\n",
       "      <td>HS-grad</td>\n",
       "      <td>9</td>\n",
       "      <td>4</td>\n",
       "      <td>13.0</td>\n",
       "      <td>Unmarried</td>\n",
       "      <td>3</td>\n",
       "      <td>1</td>\n",
       "      <td>0</td>\n",
       "      <td>3770</td>\n",
       "      <td>45</td>\n",
       "      <td>United-States</td>\n",
       "      <td>0</td>\n",
       "    </tr>\n",
       "    <tr>\n",
       "      <th>6</th>\n",
       "      <td>38</td>\n",
       "      <td>Private</td>\n",
       "      <td>150601</td>\n",
       "      <td>10th</td>\n",
       "      <td>6</td>\n",
       "      <td>3</td>\n",
       "      <td>3.0</td>\n",
       "      <td>Unmarried</td>\n",
       "      <td>3</td>\n",
       "      <td>0</td>\n",
       "      <td>0</td>\n",
       "      <td>3770</td>\n",
       "      <td>40</td>\n",
       "      <td>United-States</td>\n",
       "      <td>0</td>\n",
       "    </tr>\n",
       "    <tr>\n",
       "      <th>7</th>\n",
       "      <td>74</td>\n",
       "      <td>State-gov</td>\n",
       "      <td>88638</td>\n",
       "      <td>Doctorate</td>\n",
       "      <td>16</td>\n",
       "      <td>5</td>\n",
       "      <td>5.0</td>\n",
       "      <td>Other-relative</td>\n",
       "      <td>3</td>\n",
       "      <td>1</td>\n",
       "      <td>0</td>\n",
       "      <td>3683</td>\n",
       "      <td>20</td>\n",
       "      <td>United-States</td>\n",
       "      <td>1</td>\n",
       "    </tr>\n",
       "    <tr>\n",
       "      <th>8</th>\n",
       "      <td>68</td>\n",
       "      <td>Federal-gov</td>\n",
       "      <td>422013</td>\n",
       "      <td>HS-grad</td>\n",
       "      <td>9</td>\n",
       "      <td>4</td>\n",
       "      <td>5.0</td>\n",
       "      <td>Not-in-family</td>\n",
       "      <td>3</td>\n",
       "      <td>1</td>\n",
       "      <td>0</td>\n",
       "      <td>3683</td>\n",
       "      <td>40</td>\n",
       "      <td>United-States</td>\n",
       "      <td>0</td>\n",
       "    </tr>\n",
       "    <tr>\n",
       "      <th>9</th>\n",
       "      <td>41</td>\n",
       "      <td>Private</td>\n",
       "      <td>70037</td>\n",
       "      <td>Some-college</td>\n",
       "      <td>10</td>\n",
       "      <td>5</td>\n",
       "      <td>9.0</td>\n",
       "      <td>Unmarried</td>\n",
       "      <td>3</td>\n",
       "      <td>0</td>\n",
       "      <td>0</td>\n",
       "      <td>3004</td>\n",
       "      <td>60</td>\n",
       "      <td>?</td>\n",
       "      <td>1</td>\n",
       "    </tr>\n",
       "    <tr>\n",
       "      <th>10</th>\n",
       "      <td>45</td>\n",
       "      <td>Private</td>\n",
       "      <td>172274</td>\n",
       "      <td>Doctorate</td>\n",
       "      <td>16</td>\n",
       "      <td>4</td>\n",
       "      <td>5.0</td>\n",
       "      <td>Unmarried</td>\n",
       "      <td>0</td>\n",
       "      <td>1</td>\n",
       "      <td>0</td>\n",
       "      <td>3004</td>\n",
       "      <td>35</td>\n",
       "      <td>United-States</td>\n",
       "      <td>1</td>\n",
       "    </tr>\n",
       "    <tr>\n",
       "      <th>11</th>\n",
       "      <td>38</td>\n",
       "      <td>Self-emp-not-inc</td>\n",
       "      <td>164526</td>\n",
       "      <td>Prof-school</td>\n",
       "      <td>15</td>\n",
       "      <td>5</td>\n",
       "      <td>5.0</td>\n",
       "      <td>Not-in-family</td>\n",
       "      <td>3</td>\n",
       "      <td>0</td>\n",
       "      <td>0</td>\n",
       "      <td>2824</td>\n",
       "      <td>45</td>\n",
       "      <td>United-States</td>\n",
       "      <td>1</td>\n",
       "    </tr>\n",
       "  </tbody>\n",
       "</table>\n",
       "</div>"
      ],
      "text/plain": [
       "    age         workclass  fnlwgt     education  education.num  \\\n",
       "1    82           Private  132870       HS-grad              9   \n",
       "3    54           Private  140359       7th-8th              4   \n",
       "4    41           Private  264663  Some-college             10   \n",
       "5    34           Private  216864       HS-grad              9   \n",
       "6    38           Private  150601          10th              6   \n",
       "7    74         State-gov   88638     Doctorate             16   \n",
       "8    68       Federal-gov  422013       HS-grad              9   \n",
       "9    41           Private   70037  Some-college             10   \n",
       "10   45           Private  172274     Doctorate             16   \n",
       "11   38  Self-emp-not-inc  164526   Prof-school             15   \n",
       "\n",
       "    marital.status  occupation    relationship  race  sex  capital.gain  \\\n",
       "1                1         7.0   Not-in-family     3    1             0   \n",
       "3                4         6.0       Unmarried     3    1             0   \n",
       "4                3         5.0       Own-child     3    1             0   \n",
       "5                4        13.0       Unmarried     3    1             0   \n",
       "6                3         3.0       Unmarried     3    0             0   \n",
       "7                5         5.0  Other-relative     3    1             0   \n",
       "8                4         5.0   Not-in-family     3    1             0   \n",
       "9                5         9.0       Unmarried     3    0             0   \n",
       "10               4         5.0       Unmarried     0    1             0   \n",
       "11               5         5.0   Not-in-family     3    0             0   \n",
       "\n",
       "    capital.loss  hours.per.week native.country  income  \n",
       "1           4356              18  United-States       0  \n",
       "3           3900              40  United-States       0  \n",
       "4           3900              40  United-States       0  \n",
       "5           3770              45  United-States       0  \n",
       "6           3770              40  United-States       0  \n",
       "7           3683              20  United-States       1  \n",
       "8           3683              40  United-States       0  \n",
       "9           3004              60              ?       1  \n",
       "10          3004              35  United-States       1  \n",
       "11          2824              45  United-States       1  "
      ]
     },
     "execution_count": 12,
     "metadata": {},
     "output_type": "execute_result"
    }
   ],
   "source": [
    "df.head(10)"
   ]
  },
  {
   "cell_type": "markdown",
   "metadata": {
    "_cell_guid": "dd8ae79c-6782-499a-af0c-21abe274abbb",
    "_uuid": "247f9e5c50d4ad71e05d46c67f9d473ad3d93ab9"
   },
   "source": [
    "We're good to go."
   ]
  },
  {
   "cell_type": "markdown",
   "metadata": {
    "_cell_guid": "e193429a-312d-439e-a70d-5643322b3d34",
    "_uuid": "0f3bb5ac7357763e3f172a4b6970597fe0ba7027"
   },
   "source": [
    "Lets now explore the data with few visualizations.\n",
    "\n",
    "we are going the output with the Seaborn\n",
    "\n",
    "Seaborn is a Python visualization library based on matplotlib. It provides a high-level interface for drawing attractive statistical graphics."
   ]
  },
  {
   "cell_type": "markdown",
   "metadata": {},
   "source": [
    "A heat map (or heatmap) is a graphical representation of data where the individual values  are represented as colors."
   ]
  },
  {
   "cell_type": "code",
   "execution_count": 13,
   "metadata": {
    "_cell_guid": "99bc8922-64ae-4d43-949a-376539ac1dc6",
    "_uuid": "277fdb3f715d1b49889b96054281f15c5a37da9f"
   },
   "outputs": [
    {
     "data": {
      "image/png": "[encoded data removed]",
      "text/plain": [
       "<matplotlib.figure.Figure at 0xeedfdcb208>"
      ]
     },
     "metadata": {},
     "output_type": "display_data"
    }
   ],
   "source": [
    "hmap = df.corr()\n",
    "plt.subplots(figsize=(12, 9))\n",
    "sns.heatmap(hmap, vmax=.8,annot=True,cmap=\"BrBG\", square=True);"
   ]
  },
  {
   "cell_type": "markdown",
   "metadata": {
    "_cell_guid": "38b19460-43af-4435-a45b-a6c3534bfeec",
    "_uuid": "89e8b2cdda7dd3beded2babf3893b955d422607d"
   },
   "source": [
    "![](https://image.ibb.co/ioZvjv/Screen_Shot_2017_08_11_at_10_34_40_PM.png)\n",
    "\n",
    "![](https://image.ibb.co/eokqHF/Screen_Shot_2017_08_11_at_9_01_56_PM.png)\n",
    "\n",
    "![](https://preview.ibb.co/jtg84v/Screen_Shot_2017_08_11_at_8_59_23_PM.png)\n",
    "\n",
    "![](https://image.ibb.co/dAACWa/Screen_Shot_2017_08_11_at_9_02_13_PM.png)\n",
    "\n",
    "![](https://image.ibb.co/ebUvjv/Screen_Shot_2017_08_11_at_9_03_35_PM.png)"
   ]
  },
  {
   "cell_type": "markdown",
   "metadata": {
    "_cell_guid": "1758ef78-4738-4acc-b33c-78ee3e956cac",
    "_uuid": "3a8f71b6603bac7706581d83f603e6dd6c68ee71"
   },
   "source": [
    "**Setting up the prediction model.** Lets start with **Decission Trees.**"
   ]
  },
  {
   "cell_type": "code",
   "execution_count": 14,
   "metadata": {
    "_cell_guid": "745940ea-d31d-4dda-8c42-d2fb63202ce3",
    "_uuid": "5a338596c57acf1ef8094cdd2f14518a4cf26a6c"
   },
   "outputs": [
    {
     "name": "stdout",
     "output_type": "stream",
     "text": [
      "The accuracy of the model is 0.7615017361111112\n"
     ]
    }
   ],
   "source": [
    "from sklearn import tree\n",
    "from sklearn.model_selection import train_test_split\n",
    "from sklearn import metrics\n",
    "\n",
    "\n",
    "X=df[['education.num','age','hours.per.week']].values\n",
    "y= df[['income']].values\n",
    "\n",
    "X_train, X_test, y_train, y_test = train_test_split(X ,y, test_size=0.3, random_state=21, stratify=y)\n",
    "\n",
    "clf = tree.DecisionTreeClassifier()\n",
    "clf.fit(X_train, y_train)\n",
    "predn=clf.predict(X_test)\n",
    "print('The accuracy of the model is',metrics.accuracy_score(predn,y_test))"
   ]
  },
  {
   "cell_type": "markdown",
   "metadata": {
    "_cell_guid": "e32dd1b7-a95f-4845-88f9-96f72a14095d",
    "_uuid": "215a8616e9f41c0da2380053e45a144ec39c1e15"
   },
   "source": [
    "76.19% in our first attempt. Not bad. Lets keep trying."
   ]
  },
  {
   "cell_type": "markdown",
   "metadata": {
    "_cell_guid": "fb552b57-3ac0-42d1-92f9-fea960c05ef5",
    "_uuid": "4c24efeb8dc3b335261d0ac0c79d35f1a39f8204"
   },
   "source": [
    "**Setting up a Support Vector Machine**"
   ]
  },
  {
   "cell_type": "code",
   "execution_count": 15,
   "metadata": {
    "_cell_guid": "dd38eb70-a2b7-4da5-8fa0-82d9c44675b7",
    "_uuid": "d0fb202eeb40b90701e8cacafb1ffcb5a6ab6255"
   },
   "outputs": [
    {
     "name": "stderr",
     "output_type": "stream",
     "text": [
      "C:\\ProgramData\\Anaconda3\\lib\\site-packages\\sklearn\\utils\\validation.py:578: DataConversionWarning: A column-vector y was passed when a 1d array was expected. Please change the shape of y to (n_samples, ), for example using ravel().\n",
      "  y = column_or_1d(y, warn=True)\n"
     ]
    },
    {
     "name": "stdout",
     "output_type": "stream",
     "text": [
      "Test set predictions:\n",
      " [0 0 0 ... 0 0 0]\n",
      "0.7731119791666666\n"
     ]
    }
   ],
   "source": [
    "#SVM\n",
    "from sklearn import svm\n",
    "\n",
    "svc = svm.SVC(kernel='linear')\n",
    "\n",
    "svc.fit(X_train, y_train)\n",
    "\n",
    "y_pred=svc.predict(X_test)\n",
    "\n",
    "print(\"Test set predictions:\\n {}\".format(y_pred))\n",
    "print(svc.score(X_test,y_test))"
   ]
  },
  {
   "cell_type": "markdown",
   "metadata": {
    "_cell_guid": "bf6349df-363e-4269-9b24-5bf6f6c25ee9",
    "_uuid": "bdcf57098f2b41e94212e51c2a2ad083c772ae44"
   },
   "source": [
    "77.31%. I think we can do better."
   ]
  },
  {
   "cell_type": "markdown",
   "metadata": {
    "_cell_guid": "84a28bb8-eee8-4186-87fb-7334ec60bde0",
    "_uuid": "a63be009d925c83024b6052ae833dd5526737062"
   },
   "source": [
    "**Hyper-Parameter tuning with Grid Search CV**"
   ]
  },
  {
   "cell_type": "markdown",
   "metadata": {
    "_cell_guid": "f90f9f57-fd69-406c-8635-8abb45d1d956",
    "_uuid": "ff9d859192ec390dd27dfe03cd292e8c16cc6024"
   },
   "source": [
    "79.08%. Great. Now lets setup an actual knn to crosscheck."
   ]
  },
  {
   "cell_type": "code",
   "execution_count": 16,
   "metadata": {},
   "outputs": [
    {
     "name": "stdout",
     "output_type": "stream",
     "text": [
      "{'n_neighbors': 78}\n",
      "0.7908392473468325\n"
     ]
    }
   ],
   "source": [
    "#Tuning the model\n",
    "from sklearn.neighbors import KNeighborsClassifier\n",
    "from sklearn.model_selection import GridSearchCV\n",
    "\n",
    "\n",
    "param_grid= {'n_neighbors': np.arange(1,80)}\n",
    "knn = KNeighborsClassifier()\n",
    "knn_cv=GridSearchCV(knn, param_grid, cv=5)\n",
    "y = y.reshape(30718,)\n",
    "knn_cv.fit(X, y)\n",
    "print(knn_cv.best_params_)\n",
    "print(knn_cv.best_score_)"
   ]
  },
  {
   "cell_type": "code",
   "execution_count": 17,
   "metadata": {
    "_cell_guid": "e4b925bb-b137-4dcc-9aa1-fdc31120632a",
    "_uuid": "a0f9be463de3069210f566b0e6edf7180356f333"
   },
   "outputs": [
    {
     "name": "stderr",
     "output_type": "stream",
     "text": [
      "C:\\ProgramData\\Anaconda3\\lib\\site-packages\\ipykernel_launcher.py:3: DataConversionWarning: A column-vector y was passed when a 1d array was expected. Please change the shape of y to (n_samples, ), for example using ravel().\n",
      "  This is separate from the ipykernel package so we can avoid doing imports until\n"
     ]
    },
    {
     "name": "stdout",
     "output_type": "stream",
     "text": [
      "The accuracy of the KNN is 0.7948133680555556\n"
     ]
    }
   ],
   "source": [
    "#KNN\n",
    "model=KNeighborsClassifier(n_neighbors=78) \n",
    "model.fit(X_train,y_train)\n",
    "prediction=model.predict(X_test)\n",
    "print('The accuracy of the KNN is',metrics.accuracy_score(prediction,y_test))"
   ]
  },
  {
   "cell_type": "markdown",
   "metadata": {
    "_cell_guid": "0d0453a8-7599-4613-8d2d-1f79f510bceb",
    "_uuid": "cb783bd8d7353c97a251121fb0bf7e76daf7223b"
   },
   "source": [
    "Accuracy score of 79.48%. We're getting there."
   ]
  },
  {
   "cell_type": "markdown",
   "metadata": {
    "_cell_guid": "5b3f8d95-bd7e-4be9-8a03-0b407df71a42",
    "_uuid": "192912a6d14adf8c5b760ef2ff24a12f6fd538f8"
   },
   "source": [
    "We had included only those attributes that were corelated with the income attribute. Lets now add an another attribute to our final model."
   ]
  },
  {
   "cell_type": "code",
   "execution_count": 18,
   "metadata": {
    "_cell_guid": "7af1fce1-082a-4b9d-8fc3-c037fcb18609",
    "_uuid": "58990f03a5edcdbefb0ab9a3e47cbe0093309538"
   },
   "outputs": [
    {
     "name": "stderr",
     "output_type": "stream",
     "text": [
      "C:\\ProgramData\\Anaconda3\\lib\\site-packages\\ipykernel_launcher.py:7: DataConversionWarning: A column-vector y was passed when a 1d array was expected. Please change the shape of y to (n_samples, ), for example using ravel().\n",
      "  import sys\n"
     ]
    },
    {
     "name": "stdout",
     "output_type": "stream",
     "text": [
      "The accuracy of the KNN1 is 0.8178168402777778\n"
     ]
    }
   ],
   "source": [
    "X1=df[['education.num','age','hours.per.week', 'capital.gain']].values\n",
    "y1= df[['income']].values\n",
    "\n",
    "X1_train, X1_test, y1_train, y1_test = train_test_split(X1 ,y1, test_size=0.3, random_state=21, stratify=y)\n",
    "\n",
    "knn1=KNeighborsClassifier(n_neighbors=78) \n",
    "knn1.fit(X1_train,y1_train)\n",
    "prediction=knn1.predict(X1_test)\n",
    "print('The accuracy of the KNN1 is',metrics.accuracy_score(prediction,y1_test))"
   ]
  },
  {
   "cell_type": "markdown",
   "metadata": {
    "_cell_guid": "ac91c493-cf7c-4479-86e6-a11c5db26406",
    "_uuid": "5cd1d2a4e09dea6a1bf46ce08f20876a73bb98db"
   },
   "source": [
    "An accuracy score 81.78% in our Knn model. "
   ]
  },
  {
   "cell_type": "code",
   "execution_count": 19,
   "metadata": {},
   "outputs": [
    {
     "ename": "ModuleNotFoundError",
     "evalue": "No module named 'xgboost'",
     "output_type": "error",
     "traceback": [
      "\u001b[1;31m---------------------------------------------------------------------------\u001b[0m",
      "\u001b[1;31mModuleNotFoundError\u001b[0m                       Traceback (most recent call last)",
      "\u001b[1;32m<ipython-input-19-972ccd0dc742>\u001b[0m in \u001b[0;36m<module>\u001b[1;34m()\u001b[0m\n\u001b[1;32m----> 1\u001b[1;33m \u001b[1;32mfrom\u001b[0m \u001b[0mxgboost\u001b[0m \u001b[1;32mimport\u001b[0m \u001b[0mXGBClassifier\u001b[0m\u001b[1;33m\u001b[0m\u001b[0m\n\u001b[0m\u001b[0;32m      2\u001b[0m \u001b[1;33m\u001b[0m\u001b[0m\n\u001b[0;32m      3\u001b[0m \u001b[0mX2\u001b[0m\u001b[1;33m=\u001b[0m\u001b[0mdf\u001b[0m\u001b[1;33m[\u001b[0m\u001b[1;33m[\u001b[0m\u001b[1;34m'education.num'\u001b[0m\u001b[1;33m,\u001b[0m\u001b[1;34m'age'\u001b[0m\u001b[1;33m,\u001b[0m\u001b[1;34m'hours.per.week'\u001b[0m\u001b[1;33m,\u001b[0m \u001b[1;34m'capital.gain'\u001b[0m\u001b[1;33m]\u001b[0m\u001b[1;33m]\u001b[0m\u001b[1;33m.\u001b[0m\u001b[0mvalues\u001b[0m\u001b[1;33m\u001b[0m\u001b[0m\n\u001b[0;32m      4\u001b[0m \u001b[0my2\u001b[0m\u001b[1;33m=\u001b[0m \u001b[0mdf\u001b[0m\u001b[1;33m[\u001b[0m\u001b[1;33m[\u001b[0m\u001b[1;34m'income'\u001b[0m\u001b[1;33m]\u001b[0m\u001b[1;33m]\u001b[0m\u001b[1;33m.\u001b[0m\u001b[0mvalues\u001b[0m\u001b[1;33m\u001b[0m\u001b[0m\n\u001b[0;32m      5\u001b[0m \u001b[1;33m\u001b[0m\u001b[0m\n",
      "\u001b[1;31mModuleNotFoundError\u001b[0m: No module named 'xgboost'"
     ]
    }
   ],
   "source": [
    "from xgboost import XGBClassifier\n",
    "\n",
    "X2=df[['education.num','age','hours.per.week', 'capital.gain']].values\n",
    "y2= df[['income']].values\n",
    "\n",
    "X2_train, X2_test, y2_train, y2_test = train_test_split(X2 ,y2, test_size=0.3, random_state=21, stratify=y)\n",
    "\n",
    "# fit model no training data\n",
    "xgbc = XGBClassifier()\n",
    "xgbc.fit(X2_train, y2_train)\n",
    "prediction2=xgbc.predict(X2_test)\n",
    "print('The accuracy of the xGB is',metrics.accuracy_score(prediction2,y2_test))\n",
    "\n",
    "\n"
   ]
  },
  {
   "cell_type": "markdown",
   "metadata": {},
   "source": [
    "\n",
    "\n",
    "DecisionTreeClassifier is a class capable of performing multi-class classification on a dataset."
   ]
  },
  {
   "cell_type": "markdown",
   "metadata": {},
   "source": [
    "# THANK YOU FOR YOUR ATTENTION\n"
   ]
  },
  {
   "cell_type": "markdown",
   "metadata": {},
   "source": [
    "Final accuracy of 82.56%"
   ]
  }
 ],
 "metadata": {
  "kernelspec": {
   "display_name": "Python 3",
   "language": "python",
   "name": "python3"
  },
  "language_info": {
   "codemirror_mode": {
    "name": "ipython",
    "version": 3
   },
   "file_extension": ".py",
   "mimetype": "text/x-python",
   "name": "python",
   "nbconvert_exporter": "python",
   "pygments_lexer": "ipython3",
   "version": "3.6.4"
  }
 },
 "nbformat": 4,
 "nbformat_minor": 1
}
